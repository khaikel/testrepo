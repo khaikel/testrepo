{
 "cells": [
  {
   "cell_type": "markdown",
   "id": "24a72dc4-6084-4e47-9b84-947c326e44c1",
   "metadata": {},
   "source": [
    "# Data Science Tools and Ecosystem"
   ]
  },
  {
   "cell_type": "markdown",
   "id": "52b89366-98fe-4078-90e4-a36583ca35f8",
   "metadata": {},
   "source": [
    "In this notebook, Data Science Tools and Ecosystem are summarized."
   ]
  },
  {
   "cell_type": "markdown",
   "id": "c17a0cf2-0066-435c-9f4a-4141eeb3df0d",
   "metadata": {},
   "source": [
    "**objectives:**\n",
    "- Python\n",
    "- SQL\n",
    "- Java\n",
    "- Scala\n",
    "- R\n"
   ]
  },
  {
   "cell_type": "markdown",
   "id": "ae44bcc1-2f7f-4842-8394-fd4364f31116",
   "metadata": {},
   "source": [
    "Some of the popular languages that Data Scientists use are:\n",
    " "
   ]
  },
  {
   "cell_type": "markdown",
   "id": "49cca66e-f7c4-47ed-84b5-76ae8cb47c76",
   "metadata": {},
   "source": [
    "1. Python\n",
    "\n",
    "2. R\n",
    "\n",
    "3. SQL\n",
    "\n",
    "4. Java"
   ]
  },
  {
   "cell_type": "markdown",
   "id": "066ad739-6091-44e2-9fae-efd7a0e11b65",
   "metadata": {},
   "source": [
    "Some of the commonly used libraries used by Data Scientists include:\n",
    "1. Tensorflow\n",
    "2. Numpy\n",
    "3. Matplotlib\n",
    "4. Pandas"
   ]
  },
  {
   "cell_type": "markdown",
   "id": "6f6c922d-3e56-4219-9f18-93290edc36ca",
   "metadata": {},
   "source": [
    "| data science tools |\n",
    "| --- |\n",
    "| Rstudio |\n",
    "| Apachespark |\n",
    "| Tensorflow |"
   ]
  },
  {
   "cell_type": "markdown",
   "id": "361286d6-cadb-49a8-bc30-2c46f4fd30aa",
   "metadata": {
    "tags": []
   },
   "source": [
    "### Below are a few examples of evaluating arithmetic expressions in Python"
   ]
  },
  {
   "cell_type": "code",
   "execution_count": 2,
   "id": "7beea82a-4c1f-46af-a78d-e927c81f152b",
   "metadata": {
    "tags": []
   },
   "outputs": [
    {
     "data": {
      "text/plain": [
       "17"
      ]
     },
     "execution_count": 2,
     "metadata": {},
     "output_type": "execute_result"
    }
   ],
   "source": [
    "# This a simple arithmetic expression to mutiply then add integers\n",
    "(3*4)+5"
   ]
  },
  {
   "cell_type": "code",
   "execution_count": 3,
   "id": "20fb2a54-3181-490a-86ab-a799cb72a8e2",
   "metadata": {
    "tags": []
   },
   "outputs": [
    {
     "data": {
      "text/plain": [
       "3.3333333333333335"
      ]
     },
     "execution_count": 3,
     "metadata": {},
     "output_type": "execute_result"
    }
   ],
   "source": [
    "# This will convert 200 minutes to hours by diving by 60\n",
    "200/60"
   ]
  },
  {
   "cell_type": "markdown",
   "id": "28c38450-77eb-4e0d-a9cf-27929b2c89fd",
   "metadata": {},
   "source": [
    "## Author\n",
    "kammoun haikel"
   ]
  },
  {
   "cell_type": "code",
   "execution_count": null,
   "id": "2eb38ab1-4d5c-4a8b-bbdd-174f2dcce637",
   "metadata": {},
   "outputs": [],
   "source": []
  }
 ],
 "metadata": {
  "kernelspec": {
   "display_name": "Python",
   "language": "python",
   "name": "conda-env-python-py"
  },
  "language_info": {
   "codemirror_mode": {
    "name": "ipython",
    "version": 3
   },
   "file_extension": ".py",
   "mimetype": "text/x-python",
   "name": "python",
   "nbconvert_exporter": "python",
   "pygments_lexer": "ipython3",
   "version": "3.7.12"
  }
 },
 "nbformat": 4,
 "nbformat_minor": 5
}
